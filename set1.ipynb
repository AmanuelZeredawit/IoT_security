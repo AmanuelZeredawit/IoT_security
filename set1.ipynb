{
 "cells": [
  {
   "attachments": {},
   "cell_type": "markdown",
   "metadata": {},
   "source": [
    "## 1. Convert hex to base64\n",
    "test_input = 49276d206b696c6c696e6720796f757220627261696e206c696b65206120706f69736f6e6f7573206d757368726f6f6d\n",
    "\n",
    "\n",
    "test_output = SSdtIGtpbGxpbmcgeW91ciBicmFpbiBsaWtlIGEgcG9pc29ub3VzIG11c2hyb29t"
   ]
  },
  {
   "cell_type": "code",
   "execution_count": 46,
   "metadata": {},
   "outputs": [
    {
     "name": "stdout",
     "output_type": "stream",
     "text": [
      "base64 : b'SSdtIGtpbGxpbmcgeW91ciBicmFpbiBsaWtlIGEgcG9pc29ub3VzIG11c2hyb29t'\n"
     ]
    }
   ],
   "source": [
    "import base64\n",
    "\n",
    "def convert_hex_base64(hex):\n",
    "    byte_array = bytearray.fromhex(hex)\n",
    "    b64 = base64.b64encode(byte_array)\n",
    "    return b64\n",
    "\n",
    "hex = \"49276d206b696c6c696e6720796f757220627261696e206c696b65206120706f69736f6e6f7573206d757368726f6f6d\"\n",
    "b64 = convert_hex_base64(hex)\n",
    "print(\"base64 :\", b64)\n"
   ]
  },
  {
   "attachments": {},
   "cell_type": "markdown",
   "metadata": {},
   "source": [
    "## 2. Fixed XOR\n",
    "Write a function that takes two equal-length buffers and produces their XOR combination.\n",
    "If your function works properly, then when you feed it the string\n",
    "\n",
    "test_input = 1c0111001f010100061a024b53535009181c\n",
    "... after hex decoding, and when XOR'd against:\n",
    "\n",
    "686974207468652062756c6c277320657965\n",
    "... should produce:\n",
    "\n",
    "test_output = 746865206b696420646f6e277420706c6179"
   ]
  },
  {
   "cell_type": "code",
   "execution_count": 50,
   "metadata": {},
   "outputs": [
    {
     "data": {
      "text/plain": [
       "'746865206b696420646f6e277420706c6179'"
      ]
     },
     "execution_count": 50,
     "metadata": {},
     "output_type": "execute_result"
    }
   ],
   "source": [
    "def fixed_xor(input1, input2):\n",
    "    \n",
    "    byte_array1 = bytearray.fromhex(input1)\n",
    "    byte_array2 = bytearray.fromhex(input2)\n",
    "    result = \"\".join(\"{:02x}\".format(x ^ y) for x, y in zip(byte_array1, byte_array2))\n",
    "\n",
    "    return result\n",
    "    \n",
    "\n",
    "input1 = '1c0111001f010100061a024b53535009181c'\n",
    "input2 = '686974207468652062756c6c277320657965'\n",
    "fixed_xor(input1, input2)"
   ]
  },
  {
   "attachments": {},
   "cell_type": "markdown",
   "metadata": {},
   "source": [
    "## 3. Single-byte XOR cipher\n",
    "The hex encoded string:\n",
    "\n",
    "1b37373331363f78151b7f2b783431333d78397828372d363c78373e783a393b3736\n",
    "... has been XOR'd against a single character. Find the key, decrypt the message.\n",
    "\n",
    "You can do this by hand. But don't: write code to do it for you.\n",
    "\n",
    "How? Devise some method for \"scoring\" a piece of English plaintext. Character frequency is a good metric. Evaluate each output and choose the one with the best score."
   ]
  },
  {
   "cell_type": "code",
   "execution_count": 53,
   "metadata": {},
   "outputs": [
    {
     "name": "stdout",
     "output_type": "stream",
     "text": [
      "Plaintext: Cooking MC's like a pound of bacon\n",
      "Score: 2.2641049\n"
     ]
    }
   ],
   "source": [
    "import string\n",
    "\n",
    "def xored_decrypt(cipher_text, key):\n",
    "    byte_array = bytearray.fromhex(cipher_text)\n",
    "    return bytearray([c ^ key for c in byte_array])\n",
    "\n",
    "def score_text(text):\n",
    "    letter_freqs = {\n",
    "        'a': 0.0651738, 'b': 0.0124248, 'c': 0.0217339, 'd': 0.0349835, 'e': 0.1041442, \n",
    "        'f': 0.0197881, 'g': 0.0158610, 'h': 0.0492888, 'i': 0.0558094, 'j': 0.0009033,\n",
    "        'k': 0.0050529, 'l': 0.0331490, 'm': 0.0202124, 'n': 0.0564513, 'o': 0.0596302, \n",
    "        'p': 0.0137645, 'q': 0.0008606, 'r': 0.0497563, 's': 0.0515760, 't': 0.0729357, \n",
    "        'u': 0.0225134, 'v': 0.0082903, 'w': 0.0171272, 'x': 0.0013692, 'y': 0.0145984, \n",
    "        'z': 0.0007836, ' ': 0.1918182\n",
    "    }\n",
    "\n",
    "    score = 0\n",
    "    for char in text.lower():\n",
    "        if char in letter_freqs:\n",
    "            score += letter_freqs[char]\n",
    "    return score\n",
    "\n",
    "cipher_text = '1b37373331363f78151b7f2b783431333d78397828372d363c78373e783a393b3736'\n",
    "scores = []\n",
    "for char in string.printable:\n",
    "    key = ord(char)\n",
    "    decrypted = xored_decrypt(cipher_text, key)\n",
    "    score = score_text(decrypted.decode(\"utf-8\"))\n",
    "    scores.append((score, decrypted))\n",
    "\n",
    "result = max(scores, key=lambda x: x[0])\n",
    "print(\"Plaintext:\", result[1].decode(\"utf-8\"))\n",
    "print(\"Score:\", result[0])\n"
   ]
  },
  {
   "cell_type": "code",
   "execution_count": null,
   "metadata": {},
   "outputs": [],
   "source": [
    "def single_byte_xor_cipher():\n",
    "    pass\n",
    "\n",
    "single_byte_xor_cipher()"
   ]
  },
  {
   "attachments": {},
   "cell_type": "markdown",
   "metadata": {},
   "source": [
    "4. "
   ]
  }
 ],
 "metadata": {
  "kernelspec": {
   "display_name": "iot_env",
   "language": "python",
   "name": "python3"
  },
  "language_info": {
   "codemirror_mode": {
    "name": "ipython",
    "version": 3
   },
   "file_extension": ".py",
   "mimetype": "text/x-python",
   "name": "python",
   "nbconvert_exporter": "python",
   "pygments_lexer": "ipython3",
   "version": "3.10.9"
  },
  "orig_nbformat": 4,
  "vscode": {
   "interpreter": {
    "hash": "95623029550572310fa36d1f4acbebb50f59296794335bcd76b8217138a25cb5"
   }
  }
 },
 "nbformat": 4,
 "nbformat_minor": 2
}
