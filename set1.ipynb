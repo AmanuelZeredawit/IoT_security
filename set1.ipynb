{
 "cells": [
  {
   "attachments": {},
   "cell_type": "markdown",
   "metadata": {},
   "source": [
    "## 1. Convert hex to base64\n",
    "test_input = 49276d206b696c6c696e6720796f757220627261696e206c696b65206120706f69736f6e6f7573206d757368726f6f6d\n",
    "\n",
    "\n",
    "test_output = SSdtIGtpbGxpbmcgeW91ciBicmFpbiBsaWtlIGEgcG9pc29ub3VzIG11c2hyb29t"
   ]
  },
  {
   "cell_type": "code",
   "execution_count": 46,
   "metadata": {},
   "outputs": [
    {
     "name": "stdout",
     "output_type": "stream",
     "text": [
      "base64 : b'SSdtIGtpbGxpbmcgeW91ciBicmFpbiBsaWtlIGEgcG9pc29ub3VzIG11c2hyb29t'\n"
     ]
    }
   ],
   "source": [
    "import base64\n",
    "\n",
    "def convert_hex_base64(hex):\n",
    "    byte_array = bytearray.fromhex(hex)\n",
    "    b64 = base64.b64encode(byte_array)\n",
    "    return b64\n",
    "\n",
    "hex = \"49276d206b696c6c696e6720796f757220627261696e206c696b65206120706f69736f6e6f7573206d757368726f6f6d\"\n",
    "b64 = convert_hex_base64(hex)\n",
    "print(\"base64 :\", b64)\n"
   ]
  },
  {
   "attachments": {},
   "cell_type": "markdown",
   "metadata": {},
   "source": [
    "## 2. Fixed XOR\n",
    "Write a function that takes two equal-length buffers and produces their XOR combination.\n",
    "If your function works properly, then when you feed it the string\n",
    "\n",
    "test_input = 1c0111001f010100061a024b53535009181c\n",
    "... after hex decoding, and when XOR'd against:\n",
    "\n",
    "686974207468652062756c6c277320657965\n",
    "... should produce:\n",
    "\n",
    "test_output = 746865206b696420646f6e277420706c6179"
   ]
  },
  {
   "cell_type": "code",
   "execution_count": 50,
   "metadata": {},
   "outputs": [
    {
     "data": {
      "text/plain": [
       "'746865206b696420646f6e277420706c6179'"
      ]
     },
     "execution_count": 50,
     "metadata": {},
     "output_type": "execute_result"
    }
   ],
   "source": [
    "def fixed_xor(input1, input2):\n",
    "    \n",
    "    byte_array1 = bytearray.fromhex(input1)\n",
    "    byte_array2 = bytearray.fromhex(input2)\n",
    "    result = \"\".join(\"{:02x}\".format(x ^ y) for x, y in zip(byte_array1, byte_array2))\n",
    "\n",
    "    return result\n",
    "    \n",
    "\n",
    "input1 = '1c0111001f010100061a024b53535009181c'\n",
    "input2 = '686974207468652062756c6c277320657965'\n",
    "fixed_xor(input1, input2)"
   ]
  },
  {
   "attachments": {},
   "cell_type": "markdown",
   "metadata": {},
   "source": [
    "## 3. Single-byte XOR cipher\n",
    "The hex encoded string:\n",
    "\n",
    "1b37373331363f78151b7f2b783431333d78397828372d363c78373e783a393b3736\n",
    "... has been XOR'd against a single character. Find the key, decrypt the message.\n",
    "\n",
    "You can do this by hand. But don't: write code to do it for you.\n",
    "\n",
    "How? Devise some method for \"scoring\" a piece of English plaintext. Character frequency is a good metric. Evaluate each output and choose the one with the best score."
   ]
  },
  {
   "cell_type": "code",
   "execution_count": 57,
   "metadata": {},
   "outputs": [
    {
     "name": "stdout",
     "output_type": "stream",
     "text": [
      "Plaintext: Cooking MC's like a pound of bacon\n",
      "Score: 2.2641049\n"
     ]
    }
   ],
   "source": [
    "import string\n",
    "\n",
    "def single_byte_xor_cipher(cipher_text, key):\n",
    "    byte_array = bytearray.fromhex(cipher_text)\n",
    "    return bytearray([c ^ key for c in byte_array])\n",
    "\n",
    "def score_text(text):\n",
    "    letter_freqs = {\n",
    "        'a': 0.0651738, 'b': 0.0124248, 'c': 0.0217339, 'd': 0.0349835, 'e': 0.1041442, \n",
    "        'f': 0.0197881, 'g': 0.0158610, 'h': 0.0492888, 'i': 0.0558094, 'j': 0.0009033,\n",
    "        'k': 0.0050529, 'l': 0.0331490, 'm': 0.0202124, 'n': 0.0564513, 'o': 0.0596302, \n",
    "        'p': 0.0137645, 'q': 0.0008606, 'r': 0.0497563, 's': 0.0515760, 't': 0.0729357, \n",
    "        'u': 0.0225134, 'v': 0.0082903, 'w': 0.0171272, 'x': 0.0013692, 'y': 0.0145984, \n",
    "        'z': 0.0007836, ' ': 0.1918182\n",
    "    }\n",
    "\n",
    "    return sum(letter_freqs.get(char, 0) for char in text.lower() if char in letter_freqs)\n",
    "\n",
    "cipher_text = '1b37373331363f78151b7f2b783431333d78397828372d363c78373e783a393b3736'\n",
    "scores = []\n",
    "for char in string.printable:\n",
    "    key = ord(char)\n",
    "    decrypted = single_byte_xor_cipher(cipher_text, key)\n",
    "    score = score_text(decrypted.decode(\"utf-8\"))\n",
    "    scores.append((score, decrypted))\n",
    "\n",
    "result = max(scores, key=lambda x: x[0])\n",
    "print(\"Plaintext:\", result[1].decode(\"utf-8\"))\n",
    "print(\"Score:\", result[0])\n"
   ]
  },
  {
   "attachments": {},
   "cell_type": "markdown",
   "metadata": {},
   "source": [
    "## 4. Detect single-character XOR\n",
    "One of the 60-character strings in 4.txt has been encrypted by single-character XOR.\n",
    "\n",
    "Find it.\n",
    "\n",
    "(Your code from #3 should help.)"
   ]
  },
  {
   "cell_type": "code",
   "execution_count": 69,
   "metadata": {},
   "outputs": [
    {
     "name": "stdout",
     "output_type": "stream",
     "text": [
      "1804115614031f5f571f2b143c5d3c1b257a4b37350f18445a3e08341c3d\n",
      "\n",
      "Plaintext: eyl+i~b\"*bViA AfX\u00076JHre9'CuIa@\n",
      "Score: 1.0092965\n",
      "3a4353282114593b3e36446d2c5e1e582e335337022930331f211604576a\n",
      "\n",
      "Plaintext: I0 [Rg*HME7\u001e_-m+]@ DqZC@lRew$\u0019\n",
      "Score: 0.9614592000000001\n",
      "2c175a11553d4b0b16025e2534180964245b125e5d6e595d1d2a0710580b\n",
      "\n",
      "Plaintext: Ri$o+C5uh| [Jfw\u001aZ%l #\u0010'#cTyn&u\n",
      "Score: 0.9023523000000001\n",
      "7b5a4215415d544115415d5015455447414c155c46155f4058455c5b523f\n",
      "\n",
      "Plaintext: Now that the party is jumping\n",
      "\n",
      "Score: 2.0881317999999998\n",
      "3f1b5a343f034832193b153c482f1705392f021f5f0953290c4c43312b36\n",
      "\n",
      "Plaintext: Ea NEy2HcAoF2UmCUxe%s)Sv69KQL\n",
      "Score: 1.0949362\n",
      "37513b2d0a4e3e5211372a3a01334c5d51030c46463e3756290c0d0e1222\n",
      "\n",
      "Plaintext: Q7]Kl(X4wQL\\gU*;7ej  XQ0OjkhtD\n",
      "Score: 0.8436509999999999\n",
      "1512371119050c0c1142245a004f033650481830230a1925085c1a172726\n",
      "\n",
      "Plaintext: wpUs{gnns F8b-aT2*zRAh{Gj>xuED\n",
      "Score: 0.9922384\n",
      "2e125b2f2c1d0f1f170e0c51331f0c06291610345c0603791f33253f0e0c\n",
      "\n",
      "Plaintext: Th!UVguemtv+Iev|SljN&|y\u0003eI_Etv\n",
      "Score: 1.0672309000000002\n",
      "3649211f210456051e290f1b4c584d0749220c280b2a50531f262901503e\n",
      "\n",
      "Plaintext: _ HvHm?lw@fr%1$n KeAbC9:vO@h9W\n",
      "Score: 1.0298547\n"
     ]
    }
   ],
   "source": [
    "\n",
    "text_file = open('data/4.txt', 'r')\n",
    "for line in  text_file:\n",
    "    try:\n",
    "        cipher_text = line\n",
    "        scores = []\n",
    "        for char in string.printable:\n",
    "            key = ord(char)\n",
    "            decrypted = single_byte_xor_cipher(cipher_text, key)\n",
    "            score = score_text(decrypted.decode(\"utf-8\"))\n",
    "            scores.append((score, decrypted))\n",
    "\n",
    "        result = max(scores, key=lambda x: x[0])\n",
    "        print(line)\n",
    "        print(\"Plaintext:\", result[1].decode(\"utf-8\"))\n",
    "        print(\"Score:\", result[0])\n",
    "        \n",
    "    except:\n",
    "        continue\n",
    "\n",
    "\n",
    "\n",
    "\"\"\"\n",
    "solution: 7b5a4215415d544115415d5015455447414c155c46155f4058455c5b523f\n",
    "\n",
    "Plaintext: Now that the party is jumping\n",
    "\n",
    "Score: 2.0881317999999998\n",
    "\"\"\"\n",
    "\n",
    "    "
   ]
  },
  {
   "attachments": {},
   "cell_type": "markdown",
   "metadata": {},
   "source": [
    " ## 5 Implement repeating-key XOR\n",
    "Here is the opening stanza of an important work of the English language:\n",
    "\n",
    "\"Burning 'em, if you ain't quick and nimble\n",
    "I go crazy when I hear a cymbal\"\n",
    "\n",
    "\n",
    "Encrypt it, under the key \"ICE\", using repeating-key XOR.\n",
    "\n",
    "In repeating-key XOR, you'll sequentially apply each byte of the key; the first byte of plaintext will be XOR'd against I, the next C, the next E, then I again for the 4th byte, and so on.\n",
    "\n",
    "It should come out to:\n",
    "\n",
    "0b3637272a2b2e63622c2e69692a23693a2a3c6324202d623d63343c2a26226324272765272\n",
    "a282b2f20430a652e2c652a3124333a653e2b2027630c692b20283165286326302e27282f\n",
    "Encrypt a bunch of stuff using your repeating-key XOR function. Encrypt your mail. Encrypt your password file. Your .sig file. Get a feel for it. I promise, we aren't wasting your time with this."
   ]
  },
  {
   "cell_type": "code",
   "execution_count": 80,
   "metadata": {},
   "outputs": [
    {
     "name": "stdout",
     "output_type": "stream",
     "text": [
      "0b3637272a2b2e63622c2e69692a23693a2a3c6324202d623d63343c2a26226324272765272a282b2f20430a652e2c652a3124333a653e2b2027630c692b20283165286326302e27282f\n"
     ]
    }
   ],
   "source": [
    "def repeating_key_xor(plaintext, key):\n",
    "    ciphertext = bytearray()\n",
    "    key_len = len(key)\n",
    "    for i, char in enumerate(plaintext):\n",
    "        ciphertext.append(char ^ key[i % key_len])\n",
    "    return ciphertext.hex()\n",
    "\n",
    "plaintext = \"Burning 'em, if you ain't quick and nimble\\nI go crazy when I hear a cymbal\"\n",
    "key = \"ICE\"\n",
    "\n",
    "ciphertext = repeating_key_xor(plaintext.encode(\"utf-8\"), key.encode(\"utf-8\"))\n",
    "print(ciphertext)\n"
   ]
  }
 ],
 "metadata": {
  "kernelspec": {
   "display_name": "iot_env",
   "language": "python",
   "name": "python3"
  },
  "language_info": {
   "codemirror_mode": {
    "name": "ipython",
    "version": 3
   },
   "file_extension": ".py",
   "mimetype": "text/x-python",
   "name": "python",
   "nbconvert_exporter": "python",
   "pygments_lexer": "ipython3",
   "version": "3.10.9"
  },
  "orig_nbformat": 4,
  "vscode": {
   "interpreter": {
    "hash": "95623029550572310fa36d1f4acbebb50f59296794335bcd76b8217138a25cb5"
   }
  }
 },
 "nbformat": 4,
 "nbformat_minor": 2
}
